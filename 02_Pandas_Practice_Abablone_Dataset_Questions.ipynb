{
  "cells": [
    {
      "cell_type": "markdown",
      "metadata": {
        "id": "view-in-github",
        "colab_type": "text"
      },
      "source": [
        "<a href=\"https://colab.research.google.com/github/REDDY7208/praveen/blob/master/02_Pandas_Practice_Abablone_Dataset_Questions.ipynb\" target=\"_parent\"><img src=\"https://colab.research.google.com/assets/colab-badge.svg\" alt=\"Open In Colab\"/></a>"
      ]
    },
    {
      "cell_type": "markdown",
      "id": "40ab0a32",
      "metadata": {
        "id": "40ab0a32"
      },
      "source": [
        "# Introduction\n",
        "\n",
        "Abalone is a common name for any of a group of small to very large marine gastropod molluscs in the family Haliotidae. Abalones are marine snails.\n",
        "\n",
        "![](https://upload.wikimedia.org/wikipedia/commons/thumb/3/33/LivingAbalone.JPG/330px-LivingAbalone.JPG)\n",
        "\n",
        "The shells of abalones have a low, open spiral structure, and are characterized by several open respiratory pores in a row near the shell's outer edge. The thick inner layer of the shell is composed of nacre (mother-of-pearl), which in many species is highly iridescent, giving rise to a range of strong, changeable colors which make the shells attractive to humans as decorative objects, jewelry, and as a source of colorful mother-of-pearl.\n",
        "\n",
        "The flesh of abalones is widely considered to be a desirable food, and is consumed raw or cooked by a variety of cultures.\n",
        "\n",
        "More Information on [Abalone](https://en.wikipedia.org/wiki/Abalone)\n",
        "\n",
        "The dataset being used is available on [UCI datasets](https://archive.ics.uci.edu/ml/datasets/Abalone)"
      ]
    },
    {
      "cell_type": "markdown",
      "id": "2291868c",
      "metadata": {
        "id": "2291868c"
      },
      "source": [
        "# Solve the questions in this notebook starting from #1 and then solve the rest sequentially."
      ]
    },
    {
      "cell_type": "markdown",
      "id": "a91bcc97",
      "metadata": {
        "id": "a91bcc97"
      },
      "source": [
        "# 1\n",
        "Read the dataset https://archive.ics.uci.edu/ml/machine-learning-databases/abalone/abalone.data using pandas"
      ]
    },
    {
      "cell_type": "code",
      "execution_count": null,
      "id": "df0c2497",
      "metadata": {
        "id": "df0c2497"
      },
      "outputs": [],
      "source": []
    },
    {
      "cell_type": "markdown",
      "id": "4e5ebf34",
      "metadata": {
        "id": "4e5ebf34"
      },
      "source": [
        "# 2\n",
        "Check the column names"
      ]
    },
    {
      "cell_type": "code",
      "execution_count": null,
      "id": "1a38ec3f",
      "metadata": {
        "id": "1a38ec3f"
      },
      "outputs": [],
      "source": []
    },
    {
      "cell_type": "markdown",
      "id": "3742490c",
      "metadata": {
        "id": "3742490c"
      },
      "source": [
        "# 3\n",
        "As apparent, the first row of the data becomes the column names. Import the dataset again while resolving this issue without loosing any data"
      ]
    },
    {
      "cell_type": "code",
      "execution_count": null,
      "id": "a4a0ba00",
      "metadata": {
        "id": "a4a0ba00"
      },
      "outputs": [],
      "source": []
    },
    {
      "cell_type": "markdown",
      "id": "d49d20e9",
      "metadata": {
        "id": "d49d20e9"
      },
      "source": [
        "# 4\n",
        "Replace the default column names with\n",
        "[\"Sex\", \"Length\", \"Diameter\", \"Height\", \"Whole_weight\", \"Shucked_weight\", \"Viscera_weight\", \"Shell_weight\", \"Rings\"]\n",
        "\n",
        "The description of the columns is given below\n",
        "\n",
        "\n",
        "|Name | Data Type | Measurement Unit | Description|\n",
        "|-----|-----------|----------|---|\n",
        "|Sex | nominal | -- | M, F, and I (infant)|\n",
        "|Length | continuous | mm | Longest shell measurement|\n",
        "|Diameter | continuous | mm | perpendicular to length|\n",
        "|Height | continuous | mm | with meat in shell|\n",
        "|Whole weight | continuous | grams | whole abalone|\n",
        "|Shucked weight | continuous | grams | weight of meat|\n",
        "|Viscera weight | continuous | grams | gut weight (after bleeding)|\n",
        "|Shell weight | continuous | grams | after being dried|\n",
        "|Rings | integer | -- | +1.5 gives the age in years"
      ]
    },
    {
      "cell_type": "code",
      "execution_count": null,
      "id": "fe6e87f1",
      "metadata": {
        "id": "fe6e87f1"
      },
      "outputs": [],
      "source": []
    },
    {
      "cell_type": "markdown",
      "id": "861c23f6",
      "metadata": {
        "id": "861c23f6"
      },
      "source": [
        "# 5\n",
        "Check the shape of the data"
      ]
    },
    {
      "cell_type": "code",
      "execution_count": null,
      "id": "ba1801fd",
      "metadata": {
        "id": "ba1801fd"
      },
      "outputs": [],
      "source": []
    },
    {
      "cell_type": "markdown",
      "id": "be8f9301",
      "metadata": {
        "id": "be8f9301"
      },
      "source": [
        "# 6\n",
        "Calculate the desciptive properties of the data"
      ]
    },
    {
      "cell_type": "code",
      "execution_count": null,
      "id": "f4f5452c",
      "metadata": {
        "id": "f4f5452c"
      },
      "outputs": [],
      "source": []
    },
    {
      "cell_type": "markdown",
      "id": "a517a4a4",
      "metadata": {
        "id": "a517a4a4"
      },
      "source": [
        "# 7\n",
        "Check the datatype of all of the columns"
      ]
    },
    {
      "cell_type": "code",
      "execution_count": null,
      "id": "869adcea",
      "metadata": {
        "id": "869adcea"
      },
      "outputs": [],
      "source": []
    },
    {
      "cell_type": "markdown",
      "id": "50f33ece",
      "metadata": {
        "id": "50f33ece"
      },
      "source": [
        "# 8\n",
        "Check if these is any NaN value (missing) in the dataset"
      ]
    },
    {
      "cell_type": "code",
      "execution_count": null,
      "id": "bf0c286e",
      "metadata": {
        "id": "bf0c286e"
      },
      "outputs": [],
      "source": []
    },
    {
      "cell_type": "markdown",
      "id": "5d306e5f",
      "metadata": {
        "id": "5d306e5f"
      },
      "source": [
        "# 9\n",
        "What is the mean height of Abablone accoring to the dataset?"
      ]
    },
    {
      "cell_type": "code",
      "execution_count": null,
      "id": "26442c61",
      "metadata": {
        "id": "26442c61"
      },
      "outputs": [],
      "source": []
    },
    {
      "cell_type": "markdown",
      "id": "66fb5b4b",
      "metadata": {
        "id": "66fb5b4b"
      },
      "source": [
        "# 10\n",
        "Check the mode of Sex column"
      ]
    },
    {
      "cell_type": "code",
      "execution_count": null,
      "id": "9f670c98",
      "metadata": {
        "id": "9f670c98"
      },
      "outputs": [],
      "source": []
    },
    {
      "cell_type": "markdown",
      "id": "e354b555",
      "metadata": {
        "id": "e354b555"
      },
      "source": [
        "# 11\n",
        "What is the minimum and maximum Length of Abalones in this dataset **in centimeters**?"
      ]
    },
    {
      "cell_type": "code",
      "execution_count": null,
      "id": "615bfd38",
      "metadata": {
        "id": "615bfd38"
      },
      "outputs": [],
      "source": []
    },
    {
      "cell_type": "markdown",
      "id": "82c9231b",
      "metadata": {
        "id": "82c9231b"
      },
      "source": [
        "# 12\n",
        "The Sex column contains three unique values, check what they are"
      ]
    },
    {
      "cell_type": "code",
      "execution_count": null,
      "id": "6c327335",
      "metadata": {
        "id": "6c327335"
      },
      "outputs": [],
      "source": []
    },
    {
      "cell_type": "markdown",
      "id": "7e681e21",
      "metadata": {
        "id": "7e681e21"
      },
      "source": [
        "# 13\n",
        "The unique values and their corresponding values are M for Male, F for Female, and I for Infant.\n",
        "\n",
        "Check the count of all three values"
      ]
    },
    {
      "cell_type": "code",
      "execution_count": null,
      "id": "17ae4dca",
      "metadata": {
        "id": "17ae4dca"
      },
      "outputs": [],
      "source": []
    },
    {
      "cell_type": "markdown",
      "id": "4aa0d303",
      "metadata": {
        "id": "4aa0d303"
      },
      "source": [
        "# 14\n",
        "Draw a pie chart of all of the values"
      ]
    },
    {
      "cell_type": "code",
      "execution_count": null,
      "id": "be666187",
      "metadata": {
        "id": "be666187"
      },
      "outputs": [],
      "source": []
    },
    {
      "cell_type": "markdown",
      "id": "f528f460",
      "metadata": {
        "id": "f528f460"
      },
      "source": [
        "# 15\n",
        "Try soring the values accoring to the Height in ascending order"
      ]
    },
    {
      "cell_type": "code",
      "execution_count": null,
      "id": "a14baad6",
      "metadata": {
        "id": "a14baad6"
      },
      "outputs": [],
      "source": []
    },
    {
      "cell_type": "markdown",
      "id": "8ee71fc5",
      "metadata": {
        "id": "8ee71fc5"
      },
      "source": [
        "# 16\n",
        "Sort the data accoring to Diameter in descending order"
      ]
    },
    {
      "cell_type": "code",
      "execution_count": null,
      "id": "aa4769e4",
      "metadata": {
        "id": "aa4769e4"
      },
      "outputs": [],
      "source": []
    },
    {
      "cell_type": "markdown",
      "id": "c6e93e65",
      "metadata": {
        "id": "c6e93e65"
      },
      "source": [
        "# 17\n",
        "Sort the data first accoring to Length and then Height all ascending"
      ]
    },
    {
      "cell_type": "code",
      "execution_count": null,
      "id": "2fc438e8",
      "metadata": {
        "id": "2fc438e8"
      },
      "outputs": [],
      "source": []
    },
    {
      "cell_type": "markdown",
      "id": "c2ad4581",
      "metadata": {
        "id": "c2ad4581"
      },
      "source": [
        "# 18\n",
        "Sort the data according to Length, Diameter and Height in the same order and all in ascending order"
      ]
    },
    {
      "cell_type": "code",
      "execution_count": null,
      "id": "f36345c9",
      "metadata": {
        "id": "f36345c9"
      },
      "outputs": [],
      "source": []
    },
    {
      "cell_type": "markdown",
      "id": "f0069bdf",
      "metadata": {
        "id": "f0069bdf"
      },
      "source": [
        "# 19\n",
        "Sort the data first accoring to Length (ascending) and then Height (descending)"
      ]
    },
    {
      "cell_type": "code",
      "execution_count": null,
      "id": "304908fb",
      "metadata": {
        "id": "304908fb"
      },
      "outputs": [],
      "source": []
    },
    {
      "cell_type": "markdown",
      "id": "ab217df0",
      "metadata": {
        "id": "ab217df0"
      },
      "source": [
        "# 20\n",
        "Sort the data according to Length (ascending), Diameter (descending) and Height (ascending) in the same order"
      ]
    },
    {
      "cell_type": "code",
      "execution_count": null,
      "id": "8bf35f99",
      "metadata": {
        "id": "8bf35f99"
      },
      "outputs": [],
      "source": []
    },
    {
      "cell_type": "markdown",
      "id": "da22fedb",
      "metadata": {
        "id": "da22fedb"
      },
      "source": [
        "# 21\n",
        "On average check who weights more males or females"
      ]
    },
    {
      "cell_type": "code",
      "execution_count": null,
      "id": "d42c1d19",
      "metadata": {
        "id": "d42c1d19"
      },
      "outputs": [],
      "source": []
    },
    {
      "cell_type": "markdown",
      "id": "5e6e4663",
      "metadata": {
        "id": "5e6e4663"
      },
      "source": [
        "# 22\n",
        "Check the maximum height when grouped by Sex"
      ]
    },
    {
      "cell_type": "code",
      "execution_count": null,
      "id": "b703099b",
      "metadata": {
        "id": "b703099b"
      },
      "outputs": [],
      "source": []
    },
    {
      "cell_type": "markdown",
      "id": "b93dc4bc",
      "metadata": {
        "id": "b93dc4bc"
      },
      "source": [
        "# 23\n",
        "Check the minimum Length in each gender when grouped by Sex"
      ]
    },
    {
      "cell_type": "code",
      "execution_count": null,
      "id": "c4e4257b",
      "metadata": {
        "id": "c4e4257b"
      },
      "outputs": [],
      "source": []
    },
    {
      "cell_type": "markdown",
      "id": "99e177de",
      "metadata": {
        "id": "99e177de"
      },
      "source": [
        "# 24\n",
        "From the dataframe, select only the Diameter column without using loc or iloc"
      ]
    },
    {
      "cell_type": "code",
      "execution_count": null,
      "id": "21bd850f",
      "metadata": {
        "id": "21bd850f"
      },
      "outputs": [],
      "source": []
    },
    {
      "cell_type": "markdown",
      "id": "b2eaa819",
      "metadata": {
        "id": "b2eaa819"
      },
      "source": [
        "# 25\n",
        "From the dataframe select the Diameter and the Length columns without using loc or iloc"
      ]
    },
    {
      "cell_type": "code",
      "execution_count": null,
      "id": "c716c56a",
      "metadata": {
        "id": "c716c56a"
      },
      "outputs": [],
      "source": []
    },
    {
      "cell_type": "markdown",
      "id": "87b1508a",
      "metadata": {
        "id": "87b1508a"
      },
      "source": [
        "# 26\n",
        "Select the rows from index of 10 to 15 using iloc"
      ]
    },
    {
      "cell_type": "code",
      "execution_count": null,
      "id": "4b441fbe",
      "metadata": {
        "id": "4b441fbe"
      },
      "outputs": [],
      "source": []
    },
    {
      "cell_type": "markdown",
      "id": "2fb571f5",
      "metadata": {
        "id": "2fb571f5"
      },
      "source": [
        "# 27\n",
        "Select the first five rows using iloc"
      ]
    },
    {
      "cell_type": "code",
      "execution_count": null,
      "id": "14f29617",
      "metadata": {
        "id": "14f29617"
      },
      "outputs": [],
      "source": []
    },
    {
      "cell_type": "markdown",
      "id": "9a8b8ab4",
      "metadata": {
        "id": "9a8b8ab4"
      },
      "source": [
        "# 28\n",
        "Select the last 7 rows using iloc"
      ]
    },
    {
      "cell_type": "code",
      "execution_count": null,
      "id": "2d344f4e",
      "metadata": {
        "id": "2d344f4e"
      },
      "outputs": [],
      "source": []
    },
    {
      "cell_type": "markdown",
      "id": "e991cae9",
      "metadata": {
        "id": "e991cae9"
      },
      "source": [
        "# 29\n",
        "Select the row indexes 10 to 15 and column indexes 2 to 5 using iloc"
      ]
    },
    {
      "cell_type": "code",
      "execution_count": null,
      "id": "59544b3a",
      "metadata": {
        "id": "59544b3a"
      },
      "outputs": [],
      "source": []
    },
    {
      "cell_type": "markdown",
      "id": "7000dc29",
      "metadata": {
        "id": "7000dc29"
      },
      "source": [
        "# 30\n",
        "Select the first five rows and the last five column indexes using iloc"
      ]
    },
    {
      "cell_type": "code",
      "execution_count": null,
      "id": "bfa4098a",
      "metadata": {
        "id": "bfa4098a"
      },
      "outputs": [],
      "source": []
    },
    {
      "cell_type": "markdown",
      "id": "fa00dcae",
      "metadata": {
        "id": "fa00dcae"
      },
      "source": [
        "# 31\n",
        "Select the rows 5 to 10 using loc"
      ]
    },
    {
      "cell_type": "code",
      "execution_count": null,
      "id": "136ef5b6",
      "metadata": {
        "id": "136ef5b6"
      },
      "outputs": [],
      "source": []
    },
    {
      "cell_type": "markdown",
      "id": "e1d1c587",
      "metadata": {
        "id": "e1d1c587"
      },
      "source": [
        "# 32\n",
        "Select rows 100 to 105 and columns Height to Shell_weight using loc"
      ]
    },
    {
      "cell_type": "code",
      "execution_count": null,
      "id": "50ca28bd",
      "metadata": {
        "id": "50ca28bd"
      },
      "outputs": [],
      "source": []
    },
    {
      "cell_type": "markdown",
      "id": "53ab27a0",
      "metadata": {
        "id": "53ab27a0"
      },
      "source": [
        "# 33\n",
        "Select the first two rows and first two columns using loc"
      ]
    },
    {
      "cell_type": "code",
      "execution_count": null,
      "id": "f8c6a8d6",
      "metadata": {
        "id": "f8c6a8d6"
      },
      "outputs": [],
      "source": []
    },
    {
      "cell_type": "markdown",
      "id": "feffb676",
      "metadata": {
        "id": "feffb676"
      },
      "source": [
        "# 34\n",
        "Select only rows with indexes 100, 150, 130 and 110 using loc"
      ]
    },
    {
      "cell_type": "code",
      "execution_count": null,
      "id": "9b61013a",
      "metadata": {
        "id": "9b61013a"
      },
      "outputs": [],
      "source": []
    },
    {
      "cell_type": "markdown",
      "id": "ded32326",
      "metadata": {
        "id": "ded32326"
      },
      "source": [
        "# 35\n",
        "Select the columns Length, Rings and Height using loc"
      ]
    },
    {
      "cell_type": "code",
      "execution_count": null,
      "id": "c36e72cc",
      "metadata": {
        "id": "c36e72cc"
      },
      "outputs": [],
      "source": []
    },
    {
      "cell_type": "markdown",
      "id": "07a1f976",
      "metadata": {
        "id": "07a1f976"
      },
      "source": [
        "# 36\n",
        "Select the rows 100, 150 and 99 and columns Length, Rings and Height"
      ]
    },
    {
      "cell_type": "code",
      "execution_count": null,
      "id": "e7f03d04",
      "metadata": {
        "id": "e7f03d04"
      },
      "outputs": [],
      "source": []
    },
    {
      "cell_type": "markdown",
      "id": "e31bbcd0",
      "metadata": {
        "id": "e31bbcd0"
      },
      "source": [
        "# 37\n",
        "Draw a line plot of Whole_weight"
      ]
    },
    {
      "cell_type": "code",
      "execution_count": null,
      "id": "ed7f5f57",
      "metadata": {
        "id": "ed7f5f57"
      },
      "outputs": [],
      "source": []
    },
    {
      "cell_type": "markdown",
      "id": "22bb9979",
      "metadata": {
        "id": "22bb9979"
      },
      "source": [
        "# 38\n",
        "Draw the line plot of Whole_weight and Rings (representing age) on same plot"
      ]
    },
    {
      "cell_type": "code",
      "execution_count": null,
      "id": "0e08b277",
      "metadata": {
        "id": "0e08b277"
      },
      "outputs": [],
      "source": []
    },
    {
      "cell_type": "markdown",
      "id": "22ab4830",
      "metadata": {
        "id": "22ab4830"
      },
      "source": [
        "If you did not sort the data, it is really difficult to study the relationship between Whole_weight and Rings. Let's try to fix this."
      ]
    },
    {
      "cell_type": "markdown",
      "id": "ab8fec2b",
      "metadata": {
        "id": "ab8fec2b"
      },
      "source": [
        "# 39\n",
        "Sort the data accoring to Whole_weight and store the result in sorted_df"
      ]
    },
    {
      "cell_type": "code",
      "execution_count": null,
      "id": "d8cd93da",
      "metadata": {
        "id": "d8cd93da"
      },
      "outputs": [],
      "source": []
    },
    {
      "cell_type": "markdown",
      "id": "5b747e6b",
      "metadata": {
        "id": "5b747e6b"
      },
      "source": [
        "# 40\n",
        "The new sorted dataframe will not have index in ascending order. Reset the indexes without adding any new columns."
      ]
    },
    {
      "cell_type": "code",
      "execution_count": null,
      "id": "7c23bb55",
      "metadata": {
        "id": "7c23bb55"
      },
      "outputs": [],
      "source": []
    },
    {
      "cell_type": "markdown",
      "id": "f221dfef",
      "metadata": {
        "id": "f221dfef"
      },
      "source": [
        "# 41\n",
        "Now draw the plot of Whole_weight again, this time using sorted_df"
      ]
    },
    {
      "cell_type": "code",
      "execution_count": null,
      "id": "631b86a3",
      "metadata": {
        "id": "631b86a3"
      },
      "outputs": [],
      "source": []
    },
    {
      "cell_type": "markdown",
      "id": "d2327244",
      "metadata": {
        "id": "d2327244"
      },
      "source": [
        "# 42\n",
        "Now that the dataset is sorted, lets try plotting Whole_weight and Rings again but this time using sorted_df"
      ]
    },
    {
      "cell_type": "code",
      "execution_count": null,
      "id": "583a7137",
      "metadata": {
        "id": "583a7137"
      },
      "outputs": [],
      "source": []
    },
    {
      "cell_type": "markdown",
      "id": "b9e5e478",
      "metadata": {
        "id": "b9e5e478"
      },
      "source": [
        "# 43\n",
        "The relation between Whole_weight and Rings is now more prominent. As Rings (age) increases, Whole_weight also increses.\n",
        "\n",
        "But since Whole_weight and Rings are present across different scales, lets try to bring them to same scale by multiplying Whole_weight by 10 and plotting afterwards\n",
        "\n",
        "| Column | Before Scale Factor Min | After Scaling Factor Min | Before Scale Factor Max | After Scale Factor Max |\n",
        "| --- | --- | --- | --- | --- |\n",
        "| Whole_weight | 0.002 | 0.02 | 2.82 | 28.2 |\n",
        "| Rings | 1 | 1 | 29 | 29 |"
      ]
    },
    {
      "cell_type": "code",
      "execution_count": null,
      "id": "e2dffc8f",
      "metadata": {
        "id": "e2dffc8f"
      },
      "outputs": [],
      "source": []
    },
    {
      "cell_type": "markdown",
      "id": "4de63e4f",
      "metadata": {
        "id": "4de63e4f"
      },
      "source": [
        "# 44\n",
        "As we have seen above, there is a clear linear relationship between columns. Lets try to explore such relationships futher using coorelation. Calculate the correlation between all the columns."
      ]
    },
    {
      "cell_type": "code",
      "execution_count": null,
      "id": "46d4188e",
      "metadata": {
        "id": "46d4188e"
      },
      "outputs": [],
      "source": []
    },
    {
      "cell_type": "markdown",
      "id": "845e512e",
      "metadata": {
        "id": "845e512e"
      },
      "source": [
        "# 45\n",
        "Select all the Abalones with the Length more than 0.75"
      ]
    },
    {
      "cell_type": "code",
      "execution_count": null,
      "id": "2b3a7ec8",
      "metadata": {
        "id": "2b3a7ec8"
      },
      "outputs": [],
      "source": []
    },
    {
      "cell_type": "markdown",
      "id": "d9303a14",
      "metadata": {
        "id": "d9303a14"
      },
      "source": [
        "# 46\n",
        "Select all the Abalones with Shell_weight of 0.005 or less"
      ]
    },
    {
      "cell_type": "code",
      "execution_count": null,
      "id": "bf2ff4ed",
      "metadata": {
        "id": "bf2ff4ed"
      },
      "outputs": [],
      "source": []
    },
    {
      "cell_type": "markdown",
      "id": "8658fd21",
      "metadata": {
        "id": "8658fd21"
      },
      "source": [
        "# 47\n",
        "Select all Abalones with Length more than 0.5 and Rings less than 7"
      ]
    },
    {
      "cell_type": "code",
      "execution_count": null,
      "id": "570848c9",
      "metadata": {
        "id": "570848c9"
      },
      "outputs": [],
      "source": []
    },
    {
      "cell_type": "markdown",
      "id": "250010c1",
      "metadata": {
        "id": "250010c1"
      },
      "source": [
        "# 48\n",
        "Select all Abalones with Diamter more than 0.3 and Height more than 0.4"
      ]
    },
    {
      "cell_type": "code",
      "execution_count": null,
      "id": "3e5db146",
      "metadata": {
        "id": "3e5db146"
      },
      "outputs": [],
      "source": []
    },
    {
      "cell_type": "markdown",
      "id": "7cbba356",
      "metadata": {
        "id": "7cbba356"
      },
      "source": [
        "# 49\n",
        "Select all Abalones with Rings of 29 or Shell_weight of more than 1"
      ]
    },
    {
      "cell_type": "code",
      "execution_count": null,
      "id": "2561f252",
      "metadata": {
        "id": "2561f252"
      },
      "outputs": [],
      "source": []
    },
    {
      "cell_type": "markdown",
      "id": "4ca623cf",
      "metadata": {
        "id": "4ca623cf"
      },
      "source": [
        "# 50\n",
        "Create a deep copy of the dataframe to a variable called df_copy"
      ]
    },
    {
      "cell_type": "code",
      "execution_count": null,
      "id": "28746e16",
      "metadata": {
        "id": "28746e16"
      },
      "outputs": [],
      "source": []
    },
    {
      "cell_type": "markdown",
      "id": "298bf7e4",
      "metadata": {
        "id": "298bf7e4"
      },
      "source": [
        "# 51\n",
        "1 milimeter = 100 decimeter\n",
        "\n",
        "Convert all the values in **df_copy** Length, Diameter, Height to decimeter\n",
        "\n",
        "Note: If you accidentally do this change in df instead of df_copy, you will need to re-read the dataset using pd.read_csv"
      ]
    },
    {
      "cell_type": "code",
      "execution_count": null,
      "id": "27dbcca3",
      "metadata": {
        "id": "27dbcca3"
      },
      "outputs": [],
      "source": []
    },
    {
      "cell_type": "markdown",
      "id": "6b7b4d14",
      "metadata": {
        "id": "6b7b4d14"
      },
      "source": [
        "# 52\n",
        "Change the column names in df_copy to reflect the above change\n",
        "\n",
        "| Old Column Name | New Column Name |\n",
        "| --- | --- |\n",
        "| Length | Length_dm |\n",
        "| Diameter | Diameter_dm |\n",
        "| Height | Height_dm |"
      ]
    },
    {
      "cell_type": "code",
      "execution_count": null,
      "id": "d1c1b475",
      "metadata": {
        "id": "d1c1b475"
      },
      "outputs": [],
      "source": []
    },
    {
      "cell_type": "markdown",
      "id": "1976dfe8",
      "metadata": {
        "id": "1976dfe8"
      },
      "source": [
        "# 53\n",
        "The values in **df_copy** in columns Whole_weight, Shucked_weight, Viscera_weight and Shell_weight are given in grams, convert them into milligrams\n",
        "\n",
        "Note: 1 gram = 1000 milligrams. Also, If you accidentally do this change in df instead of df_copy, you will need to re-read the dataset using pd.read_csv."
      ]
    },
    {
      "cell_type": "code",
      "execution_count": null,
      "id": "3d03930f",
      "metadata": {
        "id": "3d03930f"
      },
      "outputs": [],
      "source": []
    },
    {
      "cell_type": "markdown",
      "id": "df65cf2e",
      "metadata": {
        "id": "df65cf2e"
      },
      "source": [
        "# 54\n",
        "Rename the **df_copy** columns to reflect this change\n",
        "\n",
        "| Old Column Name | New Column Name |\n",
        "| --- | --- |\n",
        "| Whole_weight | Whole_weight_mg |\n",
        "| Shucked_weight | Shucked_weight_mg |\n",
        "| Viscera_weight | Viscera_weight_mg |\n",
        "| Shell_weight | Shell_weight_mg |"
      ]
    },
    {
      "cell_type": "code",
      "execution_count": null,
      "id": "034100fe",
      "metadata": {
        "id": "034100fe"
      },
      "outputs": [],
      "source": []
    },
    {
      "cell_type": "markdown",
      "id": "42df548e",
      "metadata": {
        "id": "42df548e"
      },
      "source": [
        "# 55\n",
        "Delete the columns Sex and Rings from **df_copy**"
      ]
    },
    {
      "cell_type": "code",
      "execution_count": null,
      "id": "3bf5b67b",
      "metadata": {
        "id": "3bf5b67b"
      },
      "outputs": [],
      "source": []
    },
    {
      "cell_type": "markdown",
      "id": "41ada107",
      "metadata": {
        "id": "41ada107"
      },
      "source": [
        "# 56\n",
        "Add another column to **df_copy** named Length_mm containing all Length_dm values in mm\n",
        "\n",
        "Note: 100 dm = 1 mm"
      ]
    },
    {
      "cell_type": "code",
      "execution_count": null,
      "id": "290ad329",
      "metadata": {
        "id": "290ad329"
      },
      "outputs": [],
      "source": []
    }
  ],
  "metadata": {
    "kernelspec": {
      "display_name": "Python 3 (ipykernel)",
      "language": "python",
      "name": "python3"
    },
    "language_info": {
      "codemirror_mode": {
        "name": "ipython",
        "version": 3
      },
      "file_extension": ".py",
      "mimetype": "text/x-python",
      "name": "python",
      "nbconvert_exporter": "python",
      "pygments_lexer": "ipython3",
      "version": "3.9.7"
    },
    "colab": {
      "provenance": [],
      "include_colab_link": true
    }
  },
  "nbformat": 4,
  "nbformat_minor": 5
}